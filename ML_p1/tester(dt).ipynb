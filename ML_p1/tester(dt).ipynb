{
 "cells": [
  {
   "cell_type": "code",
   "execution_count": 2,
   "metadata": {},
   "outputs": [],
   "source": [
    "import util\n",
    "import datasets\n",
    "import binary\n",
    "import dt\n",
    "import runClassifier\n",
    "from numpy import *\n",
    "from pylab import *"
   ]
  },
  {
   "cell_type": "code",
   "execution_count": 4,
   "metadata": {},
   "outputs": [
    {
     "data": {
      "text/plain": [
       "Leaf 1"
      ]
     },
     "execution_count": 4,
     "metadata": {},
     "output_type": "execute_result"
    }
   ],
   "source": [
    "h = dt.DT({'maxDepth': 1})\n",
    "h"
   ]
  },
  {
   "cell_type": "code",
   "execution_count": 5,
   "metadata": {},
   "outputs": [
    {
     "data": {
      "text/plain": [
       "Branch 6\n",
       "  Leaf 1.0\n",
       "  Leaf -1.0"
      ]
     },
     "execution_count": 5,
     "metadata": {},
     "output_type": "execute_result"
    }
   ],
   "source": [
    "h.train(datasets.TennisData.X, datasets.TennisData.Y)\n",
    "h"
   ]
  },
  {
   "cell_type": "code",
   "execution_count": 6,
   "metadata": {},
   "outputs": [
    {
     "data": {
      "text/plain": [
       "Branch 6\n",
       "  Branch 7\n",
       "    Leaf 1.0\n",
       "    Leaf 1.0\n",
       "  Branch 1\n",
       "    Leaf -1.0\n",
       "    Leaf 1.0"
      ]
     },
     "execution_count": 6,
     "metadata": {},
     "output_type": "execute_result"
    }
   ],
   "source": [
    "h = dt.DT({'maxDepth': 2})\n",
    "h.train(datasets.TennisData.X, datasets.TennisData.Y)\n",
    "h"
   ]
  },
  {
   "cell_type": "code",
   "execution_count": 7,
   "metadata": {},
   "outputs": [
    {
     "data": {
      "text/plain": [
       "Branch 6\n",
       "  Branch 7\n",
       "    Leaf 1.0\n",
       "    Branch 2\n",
       "      Leaf 1.0\n",
       "      Leaf -1.0\n",
       "  Branch 1\n",
       "    Branch 5\n",
       "      Branch 4\n",
       "        Leaf -1.0\n",
       "        Branch 3\n",
       "          Leaf -1.0\n",
       "          Leaf 1.0\n",
       "      Leaf 1.0\n",
       "    Leaf 1.0"
      ]
     },
     "execution_count": 7,
     "metadata": {},
     "output_type": "execute_result"
    }
   ],
   "source": [
    "h = dt.DT({'maxDepth': 5})\n",
    "h.train(datasets.TennisData.X, datasets.TennisData.Y)\n",
    "h"
   ]
  },
  {
   "cell_type": "code",
   "execution_count": 8,
   "metadata": {},
   "outputs": [
    {
     "data": {
      "text/plain": [
       "Branch 626\n",
       "  Branch 683\n",
       "    Leaf 1.0\n",
       "    Leaf -1.0\n",
       "  Branch 1139\n",
       "    Leaf -1.0\n",
       "    Leaf 1.0"
      ]
     },
     "execution_count": 8,
     "metadata": {},
     "output_type": "execute_result"
    }
   ],
   "source": [
    "h = dt.DT({'maxDepth': 2})\n",
    "h.train(datasets.SentimentData.X, datasets.SentimentData.Y)\n",
    "h"
   ]
  },
  {
   "cell_type": "code",
   "execution_count": 9,
   "metadata": {},
   "outputs": [
    {
     "data": {
      "text/plain": [
       "'bad'"
      ]
     },
     "execution_count": 9,
     "metadata": {},
     "output_type": "execute_result"
    }
   ],
   "source": [
    "datasets.SentimentData.words[626]"
   ]
  },
  {
   "cell_type": "code",
   "execution_count": 10,
   "metadata": {},
   "outputs": [
    {
     "data": {
      "text/plain": [
       "'worst'"
      ]
     },
     "execution_count": 10,
     "metadata": {},
     "output_type": "execute_result"
    }
   ],
   "source": [
    "datasets.SentimentData.words[683]"
   ]
  },
  {
   "cell_type": "code",
   "execution_count": 11,
   "metadata": {},
   "outputs": [
    {
     "data": {
      "text/plain": [
       "'sequence'"
      ]
     },
     "execution_count": 11,
     "metadata": {},
     "output_type": "execute_result"
    }
   ],
   "source": [
    "datasets.SentimentData.words[1139]"
   ]
  },
  {
   "cell_type": "code",
   "execution_count": 12,
   "metadata": {},
   "outputs": [
    {
     "name": "stdout",
     "output_type": "stream",
     "text": [
      "Training accuracy 0.495833, test accuracy 0.4975\n"
     ]
    }
   ],
   "source": [
    "runClassifier.trainTestSet(dt.DT({'maxDepth': 1}), datasets.SentimentData)"
   ]
  },
  {
   "cell_type": "code",
   "execution_count": 13,
   "metadata": {},
   "outputs": [
    {
     "name": "stdout",
     "output_type": "stream",
     "text": [
      "Training accuracy 0.495833, test accuracy 0.4975\n"
     ]
    }
   ],
   "source": [
    "runClassifier.trainTestSet(dt.DT({'maxDepth': 3}), datasets.SentimentData)"
   ]
  },
  {
   "cell_type": "code",
   "execution_count": 14,
   "metadata": {},
   "outputs": [
    {
     "name": "stdout",
     "output_type": "stream",
     "text": [
      "Training accuracy 0.495833, test accuracy 0.4975\n"
     ]
    }
   ],
   "source": [
    "runClassifier.trainTestSet(dt.DT({'maxDepth': 5}), datasets.SentimentData)"
   ]
  },
  {
   "cell_type": "code",
   "execution_count": 16,
   "metadata": {},
   "outputs": [
    {
     "name": "stdout",
     "output_type": "stream",
     "text": [
      "Training classifier on 2 points...\n",
      "Training accuracy 0.5, test accuracy 0.4975\n",
      "Training classifier on 3 points...\n",
      "Training accuracy 0.333333, test accuracy 0.4975\n",
      "Training classifier on 5 points...\n",
      "Training accuracy 0.4, test accuracy 0.4975\n",
      "Training classifier on 10 points...\n",
      "Training accuracy 0.3, test accuracy 0.4975\n",
      "Training classifier on 19 points...\n",
      "Training accuracy 0.526316, test accuracy 0.4975\n",
      "Training classifier on 38 points...\n",
      "Training accuracy 0.5, test accuracy 0.4975\n",
      "Training classifier on 75 points...\n",
      "Training accuracy 0.493333, test accuracy 0.4975\n",
      "Training classifier on 150 points...\n",
      "Training accuracy 0.54, test accuracy 0.4975\n",
      "Training classifier on 300 points...\n",
      "Training accuracy 0.513333, test accuracy 0.4975\n",
      "Training classifier on 600 points...\n",
      "Training accuracy 0.498333, test accuracy 0.4975\n",
      "Training classifier on 1200 points...\n",
      "Training accuracy 0.495833, test accuracy 0.4975\n"
     ]
    },
    {
     "data": {
      "image/png": "[encoded data removed]",
      "text/plain": [
       "<Figure size 640x480 with 1 Axes>"
      ]
     },
     "metadata": {},
     "output_type": "display_data"
    }
   ],
   "source": [
    "curve = runClassifier.learningCurveSet(dt.DT({'maxDepth': 9}), datasets.SentimentData)\n",
    "runClassifier.plotCurve('DT on Sentiment Data', curve)"
   ]
  },
  {
   "cell_type": "code",
   "execution_count": 17,
   "metadata": {},
   "outputs": [
    {
     "name": "stdout",
     "output_type": "stream",
     "text": [
      "Training classifier with maxDepth=1...\n",
      "Training accuracy 0.495833, test accuracy 0.4975\n",
      "Training classifier with maxDepth=2...\n",
      "Training accuracy 0.495833, test accuracy 0.4975\n",
      "Training classifier with maxDepth=4...\n",
      "Training accuracy 0.495833, test accuracy 0.4975\n",
      "Training classifier with maxDepth=6...\n",
      "Training accuracy 0.495833, test accuracy 0.4975\n",
      "Training classifier with maxDepth=8...\n",
      "Training accuracy 0.495833, test accuracy 0.4975\n",
      "Training classifier with maxDepth=12...\n",
      "Training accuracy 0.495833, test accuracy 0.4975\n",
      "Training classifier with maxDepth=16...\n",
      "Training accuracy 0.495833, test accuracy 0.4975\n"
     ]
    },
    {
     "data": {
      "image/png": "[encoded data removed]",
      "text/plain": [
       "<Figure size 640x480 with 1 Axes>"
      ]
     },
     "metadata": {},
     "output_type": "display_data"
    }
   ],
   "source": [
    "curve = runClassifier.hyperparamCurveSet(dt.DT({}), 'maxDepth', [1,2,4,6,8,12,16], datasets.SentimentData)\n",
    "runClassifier.plotCurve('DT on Sentiment Data (hyperparameter)', curve)"
   ]
  }
 ],
 "metadata": {
  "kernelspec": {
   "display_name": "base",
   "language": "python",
   "name": "python3"
  },
  "language_info": {
   "codemirror_mode": {
    "name": "ipython",
    "version": 3
   },
   "file_extension": ".py",
   "mimetype": "text/x-python",
   "name": "python",
   "nbconvert_exporter": "python",
   "pygments_lexer": "ipython3",
   "version": "3.9.13"
  },
  "orig_nbformat": 4
 },
 "nbformat": 4,
 "nbformat_minor": 2
}
